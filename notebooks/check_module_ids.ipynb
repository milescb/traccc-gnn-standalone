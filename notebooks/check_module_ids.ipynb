{
 "cells": [
  {
   "cell_type": "code",
   "execution_count": 64,
   "id": "d6086531-b739-42ee-88b1-2e2903cd674b",
   "metadata": {},
   "outputs": [],
   "source": [
    "import json\n",
    "import pandas as pd\n",
    "import numpy as np"
   ]
  },
  {
   "cell_type": "code",
   "execution_count": 65,
   "id": "ffc88683-cb9b-4367-b0f8-15fd8ace0137",
   "metadata": {},
   "outputs": [
    {
     "data": {
      "text/plain": [
       "16"
      ]
     },
     "execution_count": 65,
     "metadata": {},
     "output_type": "execute_result"
    }
   ],
   "source": [
    "test_event_module_ids = [\n",
    "    145685290680320000, 155679851376803840, 166235163003453440, 176788275606847488, 187343587233497088, 724152651704434688,\n",
    "    724153201460248576, 743714063074197504, 743714612830011392, 763699885932281856, 763700435688095744, 763841173176451072,\n",
    "    763841722932264960, 783825346767093760, 783825896522907648, 783825896522907648]\n",
    "len(test_event_module_ids)"
   ]
  },
  {
   "cell_type": "code",
   "execution_count": 66,
   "id": "9c843da4-9d36-4a73-bbf4-1f631fb63499",
   "metadata": {},
   "outputs": [],
   "source": [
    "with open(\"ITk_DetectorBuilder_geometry.json\") as fp:\n",
    "    detector = json.load(fp)"
   ]
  },
  {
   "cell_type": "code",
   "execution_count": 67,
   "id": "724b28d2-06f2-4a68-be57-720d51bf1866",
   "metadata": {},
   "outputs": [],
   "source": [
    "sources = []\n",
    "barcodes = []\n",
    "\n",
    "for vol in detector[\"data\"][\"volumes\"]:\n",
    "    for srf in vol[\"surfaces\"]:\n",
    "        sources.append(srf[\"source\"])\n",
    "        barcodes.append(srf[\"barcode\"])\n",
    "\n",
    "sources = set(sources)\n",
    "barcodes = set(barcodes)\n",
    "\n",
    "sources = np.array(list(sources))\n",
    "barcodes = np.array(list(barcodes))"
   ]
  },
  {
   "cell_type": "code",
   "execution_count": 68,
   "id": "1e1967d9-970e-40db-8427-b6f5c6135c4a",
   "metadata": {},
   "outputs": [
    {
     "data": {
      "text/html": [
       "<div>\n",
       "<style scoped>\n",
       "    .dataframe tbody tr th:only-of-type {\n",
       "        vertical-align: middle;\n",
       "    }\n",
       "\n",
       "    .dataframe tbody tr th {\n",
       "        vertical-align: top;\n",
       "    }\n",
       "\n",
       "    .dataframe thead th {\n",
       "        text-align: right;\n",
       "    }\n",
       "</style>\n",
       "<table border=\"1\" class=\"dataframe\">\n",
       "  <thead>\n",
       "    <tr style=\"text-align: right;\">\n",
       "      <th></th>\n",
       "      <th>acts_geoid</th>\n",
       "      <th>acts_vol</th>\n",
       "      <th>acts_bnd</th>\n",
       "      <th>acts_lay</th>\n",
       "      <th>acts_sens</th>\n",
       "      <th>event</th>\n",
       "      <th>hardware</th>\n",
       "      <th>ath_geoid</th>\n",
       "      <th>bec</th>\n",
       "      <th>ld</th>\n",
       "      <th>...</th>\n",
       "      <th>rot_zw</th>\n",
       "      <th>bnd_type</th>\n",
       "      <th>v0_0</th>\n",
       "      <th>v0_1</th>\n",
       "      <th>v1_0</th>\n",
       "      <th>v1_1</th>\n",
       "      <th>v2_0</th>\n",
       "      <th>v2_1</th>\n",
       "      <th>v3_0</th>\n",
       "      <th>v3_1</th>\n",
       "    </tr>\n",
       "  </thead>\n",
       "  <tbody>\n",
       "    <tr>\n",
       "      <th>0</th>\n",
       "      <td>576460889742377216</td>\n",
       "      <td>8</td>\n",
       "      <td>0</td>\n",
       "      <td>2</td>\n",
       "      <td>1</td>\n",
       "      <td>9196</td>\n",
       "      <td>0</td>\n",
       "      <td>18089165300170752</td>\n",
       "      <td>-2</td>\n",
       "      <td>2</td>\n",
       "      <td>...</td>\n",
       "      <td>-1.0</td>\n",
       "      <td>6</td>\n",
       "      <td>-19.3</td>\n",
       "      <td>-20.1</td>\n",
       "      <td>19.3</td>\n",
       "      <td>-20.1</td>\n",
       "      <td>19.3</td>\n",
       "      <td>20.1</td>\n",
       "      <td>-19.3</td>\n",
       "      <td>20.1</td>\n",
       "    </tr>\n",
       "    <tr>\n",
       "      <th>1</th>\n",
       "      <td>576460889742377472</td>\n",
       "      <td>8</td>\n",
       "      <td>0</td>\n",
       "      <td>2</td>\n",
       "      <td>2</td>\n",
       "      <td>9196</td>\n",
       "      <td>0</td>\n",
       "      <td>18229902788526080</td>\n",
       "      <td>-2</td>\n",
       "      <td>2</td>\n",
       "      <td>...</td>\n",
       "      <td>-1.0</td>\n",
       "      <td>6</td>\n",
       "      <td>-19.3</td>\n",
       "      <td>-20.1</td>\n",
       "      <td>19.3</td>\n",
       "      <td>-20.1</td>\n",
       "      <td>19.3</td>\n",
       "      <td>20.1</td>\n",
       "      <td>-19.3</td>\n",
       "      <td>20.1</td>\n",
       "    </tr>\n",
       "    <tr>\n",
       "      <th>2</th>\n",
       "      <td>576460889742377728</td>\n",
       "      <td>8</td>\n",
       "      <td>0</td>\n",
       "      <td>2</td>\n",
       "      <td>3</td>\n",
       "      <td>9196</td>\n",
       "      <td>0</td>\n",
       "      <td>18370640276881408</td>\n",
       "      <td>-2</td>\n",
       "      <td>2</td>\n",
       "      <td>...</td>\n",
       "      <td>-1.0</td>\n",
       "      <td>6</td>\n",
       "      <td>-19.3</td>\n",
       "      <td>-20.1</td>\n",
       "      <td>19.3</td>\n",
       "      <td>-20.1</td>\n",
       "      <td>19.3</td>\n",
       "      <td>20.1</td>\n",
       "      <td>-19.3</td>\n",
       "      <td>20.1</td>\n",
       "    </tr>\n",
       "  </tbody>\n",
       "</table>\n",
       "<p>3 rows × 34 columns</p>\n",
       "</div>"
      ],
      "text/plain": [
       "           acts_geoid  acts_vol  acts_bnd  acts_lay  acts_sens  event  \\\n",
       "0  576460889742377216         8         0         2          1   9196   \n",
       "1  576460889742377472         8         0         2          2   9196   \n",
       "2  576460889742377728         8         0         2          3   9196   \n",
       "\n",
       "   hardware          ath_geoid  bec  ld  ...  rot_zw  bnd_type  v0_0  v0_1  \\\n",
       "0         0  18089165300170752   -2   2  ...    -1.0         6 -19.3 -20.1   \n",
       "1         0  18229902788526080   -2   2  ...    -1.0         6 -19.3 -20.1   \n",
       "2         0  18370640276881408   -2   2  ...    -1.0         6 -19.3 -20.1   \n",
       "\n",
       "   v1_0  v1_1  v2_0  v2_1  v3_0  v3_1  \n",
       "0  19.3 -20.1  19.3  20.1 -19.3  20.1  \n",
       "1  19.3 -20.1  19.3  20.1 -19.3  20.1  \n",
       "2  19.3 -20.1  19.3  20.1 -19.3  20.1  \n",
       "\n",
       "[3 rows x 34 columns]"
      ]
     },
     "execution_count": 68,
     "metadata": {},
     "output_type": "execute_result"
    }
   ],
   "source": [
    "athena_acts_map = pd.read_csv(\"athena_transforms.csv\", converters={\"ath_geoid\": lambda x: np.uint64(int(x, 16)), \"acts_geoid\": lambda x: np.uint64(int(x))})\n",
    "athena_acts_map.head(3)"
   ]
  },
  {
   "cell_type": "code",
   "execution_count": 69,
   "id": "fe0ee9cd-2593-4696-8fdb-8e203a4dc408",
   "metadata": {},
   "outputs": [],
   "source": [
    "athena_to_acts = dict(zip(athena_acts_map.ath_geoid, athena_acts_map.acts_geoid))"
   ]
  },
  {
   "cell_type": "code",
   "execution_count": 70,
   "id": "86e29dd2-203c-4623-b34f-915fa514ecfb",
   "metadata": {},
   "outputs": [],
   "source": [
    "acts_to_detray = dict(zip(sources, barcodes))"
   ]
  },
  {
   "cell_type": "code",
   "execution_count": 71,
   "id": "41af5758-a2f8-4b13-bc5d-7c31d270095d",
   "metadata": {},
   "outputs": [
    {
     "name": "stdout",
     "output_type": "stream",
     "text": [
      "1184729383861553727\n",
      "1608070614250027775\n",
      "1608071039988863999\n",
      "1626087619805901823\n",
      "1639598780807616319\n",
      "1563032718794565375\n",
      "1049621279747353599\n",
      "1554025297140942911\n",
      "1599062205424545151\n",
      "1617079348151002623\n",
      "1675628382059590463\n",
      "1675628442054943487\n",
      "1639598663232830527\n",
      "1608071412845890175\n",
      "1626087013275699775\n",
      "1626087013275699775\n"
     ]
    }
   ],
   "source": [
    "for ath_mid in test_event_module_ids:\n",
    "    print( acts_to_detray[ athena_to_acts[ ath_mid ] ] )"
   ]
  },
  {
   "cell_type": "code",
   "execution_count": null,
   "id": "910f9275-bd3d-4fd3-aec8-eeac9159311b",
   "metadata": {},
   "outputs": [],
   "source": []
  }
 ],
 "metadata": {
  "kernelspec": {
   "display_name": "Python 3 (ipykernel)",
   "language": "python",
   "name": "python3"
  },
  "language_info": {
   "codemirror_mode": {
    "name": "ipython",
    "version": 3
   },
   "file_extension": ".py",
   "mimetype": "text/x-python",
   "name": "python",
   "nbconvert_exporter": "python",
   "pygments_lexer": "ipython3",
   "version": "3.9.18"
  }
 },
 "nbformat": 4,
 "nbformat_minor": 5
}
